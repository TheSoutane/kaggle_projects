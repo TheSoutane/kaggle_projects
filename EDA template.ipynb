{
 "cells": [
  {
   "cell_type": "markdown",
   "id": "fd9979ea",
   "metadata": {},
   "source": [
    "This notebook is a template encapsulation functions to perform an easy EDA at the beguinning of a challenge "
   ]
  },
  {
   "cell_type": "markdown",
   "id": "b0816dcb",
   "metadata": {},
   "source": [
    "## 0. Imports"
   ]
  },
  {
   "cell_type": "code",
   "execution_count": 6,
   "id": "26d59626",
   "metadata": {},
   "outputs": [],
   "source": [
    "import numpy as np\n",
    "import pandas as pd\n",
    "pd.set_option('display.max_columns', None)\n",
    "\n",
    "import math\n",
    "from scipy import stats\n",
    "from statsmodels.stats.outliers_influence import variance_inflation_factor\n",
    "from collections import Counter\n",
    "\n",
    "# Visualization\n",
    "import matplotlib.pyplot as plt\n",
    "import seaborn as sns\n",
    "import plotly.express as px"
   ]
  },
  {
   "cell_type": "code",
   "execution_count": 7,
   "id": "00879308",
   "metadata": {},
   "outputs": [],
   "source": [
    "# !pip install plotly"
   ]
  },
  {
   "cell_type": "markdown",
   "id": "7139bdd7",
   "metadata": {},
   "source": [
    "## 1. Load and check data"
   ]
  },
  {
   "cell_type": "code",
   "execution_count": 12,
   "id": "f3e71622",
   "metadata": {},
   "outputs": [],
   "source": [
    "# train = pd.read_csv('/kaggle/input/.../train.csv')\n",
    "# test = pd.read_csv('/kaggle/input/.../test.csv')\n",
    "# sample_submission = pd.read_csv('/kaggle/input/sample_submission.csv')\n",
    "# origin = pd.read_csv('/kaggle/input/...')\n",
    "\n",
    "# print('The shape of the train data:', train.shape)\n",
    "# print('The shape of the test data:', test.shape)\n",
    "# print('The shape of the total data:', total.shape)"
   ]
  },
  {
   "cell_type": "code",
   "execution_count": 13,
   "id": "8193c016",
   "metadata": {},
   "outputs": [],
   "source": [
    "# train.head()"
   ]
  },
  {
   "cell_type": "markdown",
   "id": "7dad5260",
   "metadata": {},
   "source": [
    "## 2. EDA"
   ]
  },
  {
   "cell_type": "code",
   "execution_count": 17,
   "id": "1f83221b",
   "metadata": {},
   "outputs": [],
   "source": [
    "# num_var = [column for column in train.columns if train[column].nunique() > 10]\n",
    "\n",
    "# bin_var = [column for column in train.columns if train[column].nunique() == 2]\n",
    "\n",
    "# cat_var = [column for column in train.columns if column not in num_var+bin_var ]\n",
    "\n",
    "# target = '...'"
   ]
  },
  {
   "cell_type": "code",
   "execution_count": 19,
   "id": "3d8040a5",
   "metadata": {},
   "outputs": [],
   "source": [
    "# train.describe().T\\\n",
    "#     .style.bar(subset=['mean'], color=px.colors.qualitative.G10[2])\\\n",
    "#     .background_gradient(subset=['std'], cmap='Blues')\\\n",
    "#     .background_gradient(subset=['50%'], cmap='BuGn')"
   ]
  },
  {
   "cell_type": "code",
   "execution_count": 20,
   "id": "73b646b8",
   "metadata": {},
   "outputs": [],
   "source": [
    "# def summary(df):\n",
    "#     sum = pd.DataFrame(df.dtypes, columns=['dtypes'])\n",
    "#     sum['missing#'] = df.isna().sum()\n",
    "#     sum['missing%'] = (df.isna().sum())/len(df)\n",
    "#     sum['uniques'] = df.nunique().values\n",
    "#     sum['count'] = df.count().values\n",
    "#     #sum['skew'] = df.skew().values\n",
    "#     return sum\n",
    "\n",
    "# summary(train_total).style.background_gradient(cmap='Blues')"
   ]
  },
  {
   "cell_type": "code",
   "execution_count": 21,
   "id": "8f70c33a",
   "metadata": {},
   "outputs": [],
   "source": [
    "# columns_cat = [column for column in train.columns if train[column].nunique() < 10]\n",
    "\n",
    "# def plot_count(df,columns,n_cols,hue):\n",
    "#     '''\n",
    "#     # Function to genear countplot\n",
    "#     df: total data\n",
    "#     columns: category variables\n",
    "#     n_cols: num of cols\n",
    "#     '''\n",
    "#     n_rows = (len(columns) - 1) // n_cols + 1\n",
    "#     fig, ax = plt.subplots(n_rows, n_cols, figsize=(17, 4 * n_rows))\n",
    "#     ax = ax.flatten()\n",
    "    \n",
    "#     for i, column in enumerate(columns):\n",
    "#         sns.countplot(data=df, x=column, ax=ax[i],hue=hue)\n",
    "\n",
    "#         # Titles\n",
    "#         ax[i].set_title(f'{column} Counts', fontsize=18)\n",
    "#         ax[i].set_xlabel(None, fontsize=16)\n",
    "#         ax[i].set_ylabel(None, fontsize=16)\n",
    "#         ax[i].tick_params(axis='x', rotation=10)\n",
    "\n",
    "#         for p in ax[i].patches:\n",
    "#             value = int(p.get_height())\n",
    "#             ax[i].annotate(f'{value:.0f}', (p.get_x() + p.get_width() / 2, p.get_height()),\n",
    "#                            ha='center', va='bottom', fontsize=9)\n",
    "\n",
    "#     ylim_top = ax[i].get_ylim()[1]\n",
    "#     ax[i].set_ylim(top=ylim_top * 1.1)\n",
    "#     for i in range(len(columns), len(ax)):\n",
    "#         ax[i].axis('off')\n",
    "\n",
    "#     # fig.suptitle(plotname, fontsize=25, fontweight='bold')\n",
    "#     plt.tight_layout()\n",
    "#     plt.show()\n",
    "    \n",
    "# plot_count(train,columns_cat,3,'outcome')"
   ]
  },
  {
   "cell_type": "code",
   "execution_count": 22,
   "id": "16cf3274",
   "metadata": {},
   "outputs": [],
   "source": [
    "\n",
    "# def plot_pair(df_train,num_var,target,plotname):\n",
    "#     '''\n",
    "#     Funtion to make a pairplot:\n",
    "#     df_train: total data\n",
    "#     num_var: a list of numeric variable\n",
    "#     target: target variable\n",
    "#     '''\n",
    "#     g = sns.pairplot(data=df_train, x_vars=num_var, y_vars=num_var, hue=target, corner=True)\n",
    "#     g._legend.set_bbox_to_anchor((0.8, 0.7))\n",
    "#     g._legend.set_title(target)\n",
    "#     g._legend.loc = 'upper center'\n",
    "#     g._legend.get_title().set_fontsize(14)\n",
    "#     for item in g._legend.get_texts():\n",
    "#         item.set_fontsize(14)\n",
    "\n",
    "#     plt.suptitle(plotname, ha='center', fontweight='bold', fontsize=25, y=0.98)\n",
    "#     plt.show()\n",
    "\n",
    "# plot_pair(train,num_var,target,plotname = 'Scatter Matrix with Target')"
   ]
  },
  {
   "cell_type": "code",
   "execution_count": 24,
   "id": "0bb5dd9a",
   "metadata": {},
   "outputs": [],
   "source": [
    "# df = pd.concat([train[num_var].assign(Source = 'Train'), \n",
    "#                 test[num_var].assign(Source = 'Test')], \n",
    "#                axis=0, ignore_index = True);\n",
    "\n",
    "# fig, axes = plt.subplots(len(num_var), 3 ,figsize = (16, len(num_var) * 4.2), \n",
    "#                          gridspec_kw = {'hspace': 0.35, 'wspace': 0.3, 'width_ratios': [0.80, 0.20, 0.20]});\n",
    "\n",
    "# for i,col in enumerate(num_var):\n",
    "#     ax = axes[i,0];\n",
    "#     sns.kdeplot(data = df[[col, 'Source']], x = col, hue = 'Source', ax = ax, linewidth = 2.1)\n",
    "#     ax.set_title(f\"\\n{col}\",fontsize = 9, fontweight= 'bold');\n",
    "#     ax.grid(visible=True, which = 'both', linestyle = '--', color='lightgrey', linewidth = 0.75);\n",
    "#     ax.set(xlabel = '', ylabel = '');\n",
    "#     ax = axes[i,1];\n",
    "#     sns.boxplot(data = df.loc[df.Source == 'Train', [col]], y = col, width = 0.25,saturation = 0.90, linewidth = 0.90, fliersize= 2.25, color = '#037d97',\n",
    "#                 ax = ax);\n",
    "#     ax.set(xlabel = '', ylabel = '');\n",
    "#     ax.set_title(f\"Train\",fontsize = 9, fontweight= 'bold');\n",
    "\n",
    "#     ax = axes[i,2];\n",
    "#     sns.boxplot(data = df.loc[df.Source == 'Test', [col]], y = col, width = 0.25, fliersize= 2.25,\n",
    "#                 saturation = 0.6, linewidth = 0.90, color = '#E4591E',\n",
    "#                 ax = ax); \n",
    "#     ax.set(xlabel = '', ylabel = '');\n",
    "#     ax.set_title(f\"Test\",fontsize = 9, fontweight= 'bold');\n",
    "\n",
    "# plt.tight_layout();\n",
    "# plt.show();"
   ]
  },
  {
   "cell_type": "code",
   "execution_count": 25,
   "id": "5d9130dc",
   "metadata": {},
   "outputs": [],
   "source": [
    "# plt.figure(figsize=(14, len(num_var) * 2.5))\n",
    "\n",
    "# for idx, column in enumerate(num_var):\n",
    "#     plt.subplot(len(num_var), 2, idx*2+1)\n",
    "#     sns.histplot(x=column, hue=\"outcome\", data=train, bins=30, kde=True)\n",
    "#     plt.title(f\"{column} Distribution for outcome\")\n",
    "#     plt.ylim(0, train[column].value_counts().max() + 10)\n",
    "    \n",
    "# plt.tight_layout()\n",
    "# plt.show()"
   ]
  },
  {
   "cell_type": "code",
   "execution_count": 26,
   "id": "5c6e8a89",
   "metadata": {},
   "outputs": [],
   "source": [
    "# corr_matrix = train[num_var].corr()\n",
    "# mask = np.triu(np.ones_like(corr_matrix, dtype=bool))\n",
    "\n",
    "# plt.figure(figsize=(15, 12))\n",
    "# sns.heatmap(corr_matrix, mask=mask, annot=False, cmap='Blues', fmt='.2f', linewidths=1, square=True, annot_kws={\"size\": 9} )\n",
    "# plt.title('Correlation Matrix', fontsize=15)\n",
    "# plt.show()"
   ]
  },
  {
   "cell_type": "code",
   "execution_count": null,
   "id": "38dce49f",
   "metadata": {},
   "outputs": [],
   "source": []
  }
 ],
 "metadata": {
  "kernelspec": {
   "display_name": "Python 3 (ipykernel)",
   "language": "python",
   "name": "python3"
  },
  "language_info": {
   "codemirror_mode": {
    "name": "ipython",
    "version": 3
   },
   "file_extension": ".py",
   "mimetype": "text/x-python",
   "name": "python",
   "nbconvert_exporter": "python",
   "pygments_lexer": "ipython3",
   "version": "3.8.8"
  }
 },
 "nbformat": 4,
 "nbformat_minor": 5
}
